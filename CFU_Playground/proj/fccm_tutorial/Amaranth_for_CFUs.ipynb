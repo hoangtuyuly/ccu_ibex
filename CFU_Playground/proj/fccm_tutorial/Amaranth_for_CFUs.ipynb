{
  "nbformat": 4,
  "nbformat_minor": 0,
  "metadata": {
    "colab": {
      "name": "Amaranth_for_CFUs.ipynb",
      "provenance": [],
      "collapsed_sections": [],
      "toc_visible": true
    },
    "kernelspec": {
      "name": "python3",
      "display_name": "Python 3"
    },
    "language_info": {
      "name": "python"
    }
  },
  "cells": [
    {
      "cell_type": "markdown",
      "metadata": {
        "id": "view-in-github"
      },
      "source": [
        "<a href=\"https://colab.research.google.com/github/alanvgreen/CFU-Playground/blob/fccm2/proj/fccm_tutorial/Amaranth_for_CFUs.ipynb\" target=\"_parent\"><img src=\"https://colab.research.google.com/assets/colab-badge.svg\" alt=\"Open In Colab\"/></a>"
      ]
    },
    {
      "cell_type": "markdown",
      "source": [
        "# Amaranth for CFUs\n",
        "\n",
        "```\n",
        "Copyright 2022 Google LLC.\n",
        "SPDX-License-Identifier: Apache-2.0\n",
        "```\n",
        "This page shows \n",
        "\n",
        "1. Incremental building of an Amaranth CFU\n",
        "2. Simple examples of Amaranth's language features.\n",
        "\n",
        "Also see:\n",
        "\n",
        "* https://github.com/amaranth-lang/amaranth\n",
        "* Docs: https://amaranth-lang.org/docs/amaranth/latest/\n",
        "\n",
        "avg@google.com / 2022-04-19\n",
        "\n"
      ],
      "metadata": {
        "id": "PdsQhK8_h0hK"
      }
    },
    {
      "cell_type": "markdown",
      "source": [
        "This next cell initialises the libraries and Python path. Execute it before any others."
      ],
      "metadata": {
        "id": "7E0kn_O2EOB1"
      }
    },
    {
      "cell_type": "code",
      "metadata": {
        "id": "oqut0qU76jNx",
        "collapsed": true
      },
      "source": [
        "# Install Amaranth \n",
        "!pip install --upgrade 'amaranth[builtin-yosys]'\n",
        "\n",
        "# CFU-Playground library\n",
        "!git clone https://github.com/google/CFU-Playground.git\n",
        "import sys\n",
        "sys.path.append('CFU-Playground/python')\n",
        "\n",
        "# Imports\n",
        "from amaranth import *\n",
        "from amaranth.back import verilog\n",
        "from amaranth.sim import Delay, Simulator, Tick\n",
        "from amaranth_cfu import TestBase, SimpleElaboratable, pack_vals, simple_cfu, InstructionBase, CfuTestBase\n",
        "import re, unittest\n",
        "\n",
        "# Utility to convert Amaranth to verilog \n",
        "def convert_elaboratable(elaboratable):\n",
        "  v = verilog.convert(elaboratable, name='Top', ports=elaboratable.ports)\n",
        "  v = re.sub(r'\\(\\*.*\\*\\)', '', v)\n",
        "  return re.sub(r'^ *\\n', '\\n', v, flags=re.MULTILINE)\n",
        "\n",
        "def runTests(klazz):\n",
        "  loader = unittest.TestLoader()\n",
        "  suite = unittest.TestSuite()\n",
        "  suite.addTests(loader.loadTestsFromTestCase(klazz))\n",
        "  runner = unittest.TextTestRunner()\n",
        "  runner.run(suite)"
      ],
      "execution_count": null,
      "outputs": []
    },
    {
      "cell_type": "markdown",
      "source": [
        "## Four-way Multiply-Accumulate\n",
        "\n",
        "These cells demonstrate the evolution of a full four-way multiply-accumulate CFU instruction."
      ],
      "metadata": {
        "id": "pOIxg7Dt-GSE"
      }
    },
    {
      "cell_type": "markdown",
      "source": [
        "### SingleMultiply\n",
        "\n",
        "Demonstrates a simple calculation: `(a+128)*b`"
      ],
      "metadata": {
        "id": "cvZUXh8n_r1h"
      }
    },
    {
      "cell_type": "code",
      "source": [
        "class SingleMultiply(SimpleElaboratable):\n",
        "  def __init__(self):\n",
        "    self.a = Signal(signed(8))\n",
        "    self.b = Signal(signed(8))\n",
        "    self.result = Signal(signed(32))\n",
        "  def elab(self, m):\n",
        "    m.d.comb += self.result.eq((self.a + 128) * self.b)\n",
        "\n",
        "class SingleMultiplyTest(TestBase):\n",
        "  def create_dut(self):\n",
        "    return SingleMultiply()\n",
        "  def test(self):\n",
        "    TEST_CASE = [\n",
        "      (1-128, 1, 1),\n",
        "      (33-128, -25, 33*-25),\n",
        "    ]\n",
        "    def process():\n",
        "      for (a, b, expected) in TEST_CASE:\n",
        "        yield self.dut.a.eq(a)\n",
        "        yield self.dut.b.eq(b)\n",
        "        yield Delay(0.1)\n",
        "        self.assertEqual(expected, (yield self.dut.result))\n",
        "        yield\n",
        "    self.run_sim(process)\n",
        "\n",
        "runTests(SingleMultiplyTest)"
      ],
      "metadata": {
        "colab": {
          "base_uri": "https://localhost:8080/"
        },
        "id": "gMFhY1ynjoEP",
        "outputId": "30f4058b-bea4-4c89-a0a5-daa502f3e09a"
      },
      "execution_count": null,
      "outputs": [
        {
          "output_type": "stream",
          "name": "stderr",
          "text": [
            ".\n",
            "----------------------------------------------------------------------\n",
            "Ran 1 test in 0.012s\n",
            "\n",
            "OK\n"
          ]
        }
      ]
    },
    {
      "cell_type": "markdown",
      "source": [
        "### WordMultiplyAdd\n",
        "\n",
        "Performs four `(a + 128) * b` operations in parallel, and adds the results."
      ],
      "metadata": {
        "id": "ULBpfjG7_8M2"
      }
    },
    {
      "cell_type": "code",
      "source": [
        "class WordMultiplyAdd(SimpleElaboratable):\n",
        "  def __init__(self):\n",
        "    self.a_word = Signal(32)\n",
        "    self.b_word = Signal(32)\n",
        "    self.result = Signal(signed(32))\n",
        "  def elab(self, m):\n",
        "    a_bytes = [self.a_word[i:i+8].as_signed() for i in range(0, 32, 8)]\n",
        "    b_bytes = [self.b_word[i:i+8].as_signed() for i in range(0, 32, 8)]\n",
        "    m.d.comb += self.result.eq(\n",
        "        sum((a + 128) * b for a, b in zip(a_bytes, b_bytes)))\n",
        "\n",
        "\n",
        "class WordMultiplyAddTest(TestBase):\n",
        "  def create_dut(self):\n",
        "    return WordMultiplyAdd()\n",
        "  \n",
        "  def test(self):\n",
        "    def a(a, b, c, d): return pack_vals(a, b, c, d, offset=-128)\n",
        "    def b(a, b, c, d): return pack_vals(a, b, c, d, offset=0)\n",
        "    TEST_CASE = [\n",
        "        (a(99, 22, 2, 1), b(-2, 6, 7, 111), 59),\n",
        "        (a(63, 161, 15, 0), b(29, 13, 62, -38), 4850),\n",
        "    ]\n",
        "    def process():\n",
        "      for (a, b, expected) in TEST_CASE:\n",
        "        yield self.dut.a_word.eq(a)\n",
        "        yield self.dut.b_word.eq(b)\n",
        "        yield Delay(0.1)\n",
        "        self.assertEqual(expected, (yield self.dut.result))\n",
        "        yield\n",
        "    self.run_sim(process)\n",
        "\n",
        "runTests(WordMultiplyAddTest)"
      ],
      "metadata": {
        "colab": {
          "base_uri": "https://localhost:8080/"
        },
        "outputId": "232b568e-5b02-41b1-c1fd-086884e310ab",
        "id": "9NuMzaAdrvyY"
      },
      "execution_count": null,
      "outputs": [
        {
          "output_type": "stream",
          "name": "stderr",
          "text": [
            ".\n",
            "----------------------------------------------------------------------\n",
            "Ran 1 test in 0.007s\n",
            "\n",
            "OK\n"
          ]
        }
      ]
    },
    {
      "cell_type": "markdown",
      "source": [
        "### WordMultiplyAccumulate\n",
        "\n",
        "Adds an accumulator to the four-way multiply and add operation.\n",
        "\n",
        "Includes an `enable` signal to control when accumulation takes place and a `clear` signal to rest the accumulator."
      ],
      "metadata": {
        "id": "i09Lx8lxAOuB"
      }
    },
    {
      "cell_type": "code",
      "source": [
        "class WordMultiplyAccumulate(SimpleElaboratable):\n",
        "  def __init__(self):\n",
        "    self.a_word = Signal(32)\n",
        "    self.b_word = Signal(32)\n",
        "    self.accumulator = Signal(signed(32))\n",
        "    self.enable = Signal()\n",
        "    self.clear = Signal()\n",
        "  def elab(self, m):\n",
        "    a_bytes = [self.a_word[i:i+8].as_signed() for i in range(0, 32, 8)]\n",
        "    b_bytes = [self.b_word[i:i+8].as_signed() for i in range(0, 32, 8)]\n",
        "    calculations = ((a + 128) * b for a, b in zip(a_bytes, b_bytes))\n",
        "    summed = sum(calculations)\n",
        "    with m.If(self.enable):\n",
        "      m.d.sync += self.accumulator.eq(self.accumulator + summed)\n",
        "    with m.If(self.clear):\n",
        "      m.d.sync += self.accumulator.eq(0)\n",
        "\n",
        "\n",
        "class WordMultiplyAccumulateTest(TestBase):\n",
        "  def create_dut(self):\n",
        "    return WordMultiplyAccumulate()\n",
        "  \n",
        "  def test(self):\n",
        "    def a(a, b, c, d): return pack_vals(a, b, c, d, offset=-128)\n",
        "    def b(a, b, c, d): return pack_vals(a, b, c, d, offset=0)\n",
        "    DATA = [\n",
        "        # (a_word, b_word, enable, clear), expected accumulator\n",
        "        ((a(0, 0, 0, 0),  b(0, 0, 0, 0), 0, 0), 0),\n",
        "\n",
        "        # Simple tests: with just first byte\n",
        "        ((a(10, 0, 0, 0), b(3, 0, 0, 0),  1, 0),   0),\n",
        "        ((a(11, 0, 0, 0), b(-4, 0, 0, 0), 1, 0),  30),\n",
        "        ((a(11, 0, 0, 0), b(-4, 0, 0, 0), 0, 0), -14),\n",
        "        # Since was not enabled last cycle, accumulator will not change\n",
        "        ((a(11, 0, 0, 0), b(-4, 0, 0, 0), 1, 0), -14),\n",
        "        # Since was enabled last cycle, will change accumlator\n",
        "        ((a(11, 0, 0, 0), b(-4, 0, 0, 0), 0, 1), -58),\n",
        "        # Accumulator cleared\n",
        "        ((a(11, 0, 0, 0), b(-4, 0, 0, 0), 0, 0),  0),\n",
        "\n",
        "        # Uses all bytes (calculated on a spreadsheet)\n",
        "        ((a(99, 22, 2, 1),      b(-2, 6, 7, 111), 1, 0),             0),\n",
        "        ((a(2, 45, 79, 22),     b(-33, 6, -97, -22), 1, 0),         59),\n",
        "        ((a(23, 34, 45, 56),    b(-128, -121, 119, 117), 1, 0),  -7884),\n",
        "        ((a(188, 34, 236, 246), b(-87, 56, 52, -117), 1, 0),     -3035),\n",
        "        ((a(131, 92, 21, 83),   b(-114, -72, -31, -44), 1, 0),  -33997),\n",
        "        ((a(74, 68, 170, 39),   b(102, 12, 53, -128), 1, 0),    -59858),\n",
        "        ((a(16, 63, 1, 198),    b(29, 36, 106, 62), 1, 0),      -47476),\n",
        "        ((a(0, 0, 0, 0),        b(0, 0, 0, 0), 0, 1),           -32362),\n",
        "\n",
        "        # Interesting bug\n",
        "        ((a(128, 0, 0, 0), b(-104, 0, 0, 0), 1, 0), 0),\n",
        "        ((a(0, 51, 0, 0), b(0, 43, 0, 0), 1, 0), -13312),\n",
        "        ((a(0, 0, 97, 0), b(0, 0, -82, 0), 1, 0), -11119),\n",
        "        ((a(0, 0, 0, 156), b(0, 0, 0, -83), 1, 0), -19073),\n",
        "        ((a(0, 0, 0, 0), b(0, 0, 0, 0), 1, 0), -32021),\n",
        "    ]\n",
        "\n",
        "    dut = self.dut\n",
        "\n",
        "    def process():\n",
        "        for (a_word, b_word, enable, clear), expected in DATA:\n",
        "            yield dut.a_word.eq(a_word)\n",
        "            yield dut.b_word.eq(b_word)\n",
        "            yield dut.enable.eq(enable)\n",
        "            yield dut.clear.eq(clear)\n",
        "            yield Delay(0.1)  # Wait for input values to settle\n",
        "\n",
        "            # Check on accumulator, as calcuated last cycle\n",
        "            self.assertEqual(expected, (yield dut.accumulator))\n",
        "            yield Tick()\n",
        "    self.run_sim(process)\n",
        "\n",
        "runTests(WordMultiplyAccumulateTest)  "
      ],
      "metadata": {
        "colab": {
          "base_uri": "https://localhost:8080/"
        },
        "outputId": "18833bd4-3f26-45de-f327-be868025f70b",
        "id": "P5TAN2hG06Jp"
      },
      "execution_count": null,
      "outputs": [
        {
          "output_type": "stream",
          "name": "stderr",
          "text": [
            ".\n",
            "----------------------------------------------------------------------\n",
            "Ran 1 test in 0.017s\n",
            "\n",
            "OK\n"
          ]
        }
      ]
    },
    {
      "cell_type": "markdown",
      "source": [
        "### CFU Wrapper\n",
        "\n",
        "Wraps the preceding logic in a CFU. Uses funct7 to determine what function the WordMultiplyAccumulate unit should perform."
      ],
      "metadata": {
        "id": "Yft2zGjwA41J"
      }
    },
    {
      "cell_type": "code",
      "source": [
        "class Macc4Instruction(InstructionBase):\n",
        "    \"\"\"Simple instruction that provides access to a WordMultiplyAccumulate\n",
        "\n",
        "    The supported functions are:\n",
        "        * 0: Reset accumulator\n",
        "        * 1: 4-way multiply accumulate.\n",
        "        * 2: Read accumulator\n",
        "    \"\"\"\n",
        "\n",
        "    def elab(self, m):\n",
        "        # Build the submodule\n",
        "        m.submodules.macc4 = macc4 = WordMultiplyAccumulate()\n",
        "\n",
        "        # Inputs to the macc4\n",
        "        m.d.comb += macc4.a_word.eq(self.in0)\n",
        "        m.d.comb += macc4.b_word.eq(self.in1)\n",
        "\n",
        "        # Only function 2 has a defined response, so we can\n",
        "        # unconditionally set it.\n",
        "        m.d.comb += self.output.eq(macc4.accumulator)\n",
        "\n",
        "        with m.If(self.start):\n",
        "            m.d.comb += [\n",
        "                # We can always return control to the CPU on next cycle\n",
        "                self.done.eq(1),\n",
        "\n",
        "                # clear on function 0, enable on function 1\n",
        "                macc4.clear.eq(self.funct7 == 0),\n",
        "                macc4.enable.eq(self.funct7 == 1),\n",
        "            ]\n",
        "\n",
        "\n",
        "def make_cfu():\n",
        "    return simple_cfu({0: Macc4Instruction()})\n",
        "\n",
        "\n",
        "class CfuTest(CfuTestBase):\n",
        "    def create_dut(self):\n",
        "        return make_cfu()\n",
        "\n",
        "    def test(self):\n",
        "        \"Tests CFU plumbs to Madd4 correctly\"\n",
        "        def a(a, b, c, d): return pack_vals(a, b, c, d, offset=-128)\n",
        "        def b(a, b, c, d): return pack_vals(a, b, c, d, offset=0)\n",
        "        # These values were calculated with a spreadsheet\n",
        "        DATA = [\n",
        "            # ((fn3, fn7, op1, op2), result)\n",
        "            ((0, 0, 0, 0), None),  # reset\n",
        "            ((0, 1, a(130, 7, 76, 47), b(104, -14, -24, 71)), None),  # calculate\n",
        "            ((0, 1, a(84, 90, 36, 191), b(109, 57, -50, -1)), None),\n",
        "            ((0, 1, a(203, 246, 89, 178), b(-87, 26, 77, 71)), None),\n",
        "            ((0, 1, a(43, 27, 78, 167), b(-24, -8, 65, 124)), None),\n",
        "            ((0, 2, 0, 0), 59986),  # read result\n",
        "\n",
        "            ((0, 0, 0, 0), None),  # reset\n",
        "            ((0, 1, a(67, 81, 184, 130), b(81, 38, -116, 65)), None),\n",
        "            ((0, 1, a(208, 175, 180, 198), b(-120, -70, 8, 11)), None),\n",
        "            ((0, 1, a(185, 81, 101, 108), b(90, 6, -92, 83)), None),\n",
        "            ((0, 1, a(219, 216, 114, 236), b(-116, -9, -109, -16)), None),\n",
        "            ((0, 2, 0, 0), -64723),  # read result\n",
        "\n",
        "            ((0, 0, 0, 0), None),  # reset\n",
        "            ((0, 1, a(128, 0, 0, 0), b(-104, 0, 0, 0)), None),\n",
        "            ((0, 1, a(0, 51, 0, 0),  b(0, 43, 0, 0)), None),\n",
        "            ((0, 1, a(0, 0, 97, 0),  b(0, 0, -82, 0)), None),\n",
        "            ((0, 1, a(0, 0, 0, 156), b(0, 0, 0, -83)), None),\n",
        "            ((0, 2, a(0, 0, 0, 0),   b(0, 0, 0, 0)), -32021),\n",
        "        ]\n",
        "        self.run_ops(DATA)\n",
        "\n",
        "runTests(CfuTest)"
      ],
      "metadata": {
        "id": "jT05EyAr66pO",
        "colab": {
          "base_uri": "https://localhost:8080/"
        },
        "outputId": "ac4b19c1-24a2-4606-8e93-f0412a6c7fba"
      },
      "execution_count": null,
      "outputs": [
        {
          "output_type": "stream",
          "name": "stderr",
          "text": [
            ".\n",
            "----------------------------------------------------------------------\n",
            "Ran 1 test in 0.063s\n",
            "\n",
            "OK\n"
          ]
        }
      ]
    },
    {
      "cell_type": "markdown",
      "source": [
        "## Amaranth to Verilog Examples\n",
        "\n",
        "These examples show Amaranth and the Verilog it is translated into."
      ],
      "metadata": {
        "id": "tBS1B0mc-q7r"
      }
    },
    {
      "cell_type": "markdown",
      "source": [
        "### SyncAndComb\n",
        "\n",
        "Demonstrates synchronous and combinatorial logic with a simple component that outputs the high bit of a 12 bit counter."
      ],
      "metadata": {
        "id": "PboruKiTBqG-"
      }
    },
    {
      "cell_type": "code",
      "source": [
        "class SyncAndComb(Elaboratable):\n",
        "  def __init__(self):\n",
        "    self.out = Signal(1)\n",
        "    self.ports = [self.out]\n",
        "  def elaborate(self, platform):\n",
        "    m = Module()\n",
        "    counter = Signal(12)\n",
        "    m.d.sync += counter.eq(counter + 1)\n",
        "    m.d.comb += self.out.eq(counter[-1])\n",
        "    return m\n",
        "print(convert_elaboratable(SyncAndComb()))"
      ],
      "metadata": {
        "id": "IatfJJSUrg7j",
        "colab": {
          "base_uri": "https://localhost:8080/"
        },
        "outputId": "d87b57b2-18cb-4efd-9d87-d7c2cf35ebf3"
      },
      "execution_count": null,
      "outputs": [
        {
          "output_type": "stream",
          "name": "stdout",
          "text": [
            "/* Generated by Amaranth Yosys 0.10.0 (PyPI ver 0.10.0.dev46, git sha1 dca8fb54a) */\n",
            "\n",
            "\n",
            "\n",
            "\n",
            "module Top(clk, rst, out);\n",
            "  reg \\initial  = 0;\n",
            "\n",
            "  wire [12:0] \\$1 ;\n",
            "\n",
            "  wire [12:0] \\$2 ;\n",
            "\n",
            "  input clk;\n",
            "\n",
            "  reg [11:0] counter = 12'h000;\n",
            "\n",
            "  reg [11:0] \\counter$next ;\n",
            "\n",
            "  output out;\n",
            "\n",
            "  input rst;\n",
            "  assign \\$2  = counter +  1'h1;\n",
            "  always @(posedge clk)\n",
            "    counter <= \\counter$next ;\n",
            "  always @* begin\n",
            "    if (\\initial ) begin end\n",
            "    \\counter$next  = \\$2 [11:0];\n",
            "\n",
            "    casez (rst)\n",
            "      1'h1:\n",
            "          \\counter$next  = 12'h000;\n",
            "    endcase\n",
            "  end\n",
            "  assign \\$1  = \\$2 ;\n",
            "  assign out = counter[11];\n",
            "endmodule\n",
            "\n"
          ]
        }
      ]
    },
    {
      "cell_type": "markdown",
      "source": [
        "### Conditional Enable\n",
        "\n",
        "Demonstrates Amaranth's equivalent to Verilog's `if` statement. A five bit counter is incremented when input signal `up` is high or decremented when `down` is high."
      ],
      "metadata": {
        "id": "QBXzVByqCCs9"
      }
    },
    {
      "cell_type": "code",
      "metadata": {
        "id": "rxK06gSm9NNf",
        "colab": {
          "base_uri": "https://localhost:8080/"
        },
        "outputId": "9309e0fe-d41d-4af7-d89b-e6d46c3287a2"
      },
      "source": [
        "class ConditionalEnable(Elaboratable):\n",
        "  def __init__(self):\n",
        "    self.up = Signal()\n",
        "    self.down = Signal()\n",
        "    self.value = Signal(5)\n",
        "    self.ports = [self.value, self.up, self.down]\n",
        "\n",
        "  def elaborate(self, platform):\n",
        "    m = Module()\n",
        "    with m.If(self.up):\n",
        "      m.d.sync += self.value.eq(self.value + 1)\n",
        "    with m.Elif(self.down):\n",
        "      m.d.sync += self.value.eq(self.value - 1)\n",
        "    return m\n",
        "\n",
        "print(convert_elaboratable(ConditionalEnable()))\n",
        "    "
      ],
      "execution_count": null,
      "outputs": [
        {
          "output_type": "stream",
          "name": "stdout",
          "text": [
            "/* Generated by Amaranth Yosys 0.10.0 (PyPI ver 0.10.0.dev46, git sha1 dca8fb54a) */\n",
            "\n",
            "\n",
            "\n",
            "\n",
            "module Top(up, down, clk, rst, value);\n",
            "  reg \\initial  = 0;\n",
            "\n",
            "  wire [5:0] \\$1 ;\n",
            "\n",
            "  wire [5:0] \\$2 ;\n",
            "\n",
            "  wire [5:0] \\$4 ;\n",
            "\n",
            "  wire [5:0] \\$5 ;\n",
            "\n",
            "  input clk;\n",
            "\n",
            "  input down;\n",
            "\n",
            "  input rst;\n",
            "\n",
            "  input up;\n",
            "\n",
            "  output [4:0] value;\n",
            "  reg [4:0] value = 5'h00;\n",
            "\n",
            "  reg [4:0] \\value$next ;\n",
            "  assign \\$2  = value +  1'h1;\n",
            "  assign \\$5  = value -  1'h1;\n",
            "  always @(posedge clk)\n",
            "    value <= \\value$next ;\n",
            "  always @* begin\n",
            "    if (\\initial ) begin end\n",
            "    \\value$next  = value;\n",
            "\n",
            "    casez ({ down, up })\n",
            "      /* src = \"<ipython-input-5-5a5e0372ea90>:10\" */\n",
            "      2'b?1:\n",
            "          \\value$next  = \\$2 [4:0];\n",
            "      /* src = \"<ipython-input-5-5a5e0372ea90>:12\" */\n",
            "      2'b1?:\n",
            "          \\value$next  = \\$5 [4:0];\n",
            "    endcase\n",
            "\n",
            "    casez (rst)\n",
            "      1'h1:\n",
            "          \\value$next  = 5'h00;\n",
            "    endcase\n",
            "  end\n",
            "  assign \\$1  = \\$2 ;\n",
            "  assign \\$4  = \\$5 ;\n",
            "endmodule\n",
            "\n"
          ]
        }
      ]
    },
    {
      "cell_type": "markdown",
      "source": [
        "### EdgeDetector\n",
        "\n",
        "Simple edge detector, along with a test case."
      ],
      "metadata": {
        "id": "D-LNOHcRChIx"
      }
    },
    {
      "cell_type": "code",
      "source": [
        "class EdgeDetector(SimpleElaboratable):\n",
        "  \"\"\"Detects low-high transitions in a signal\"\"\"\n",
        "  def __init__(self):\n",
        "    self.input = Signal()\n",
        "    self.detected = Signal()\n",
        "    self.ports = [self.input, self.detected]\n",
        "  def elab(self, m):\n",
        "    last = Signal()\n",
        "    m.d.sync += last.eq(self.input)\n",
        "    m.d.comb += self.detected.eq(self.input & ~last)\n",
        "    \n",
        "class EdgeDetectorTestCase(TestBase):\n",
        "  def create_dut(self):\n",
        "    return EdgeDetector()\n",
        "\n",
        "  def test_with_table(self):\n",
        "    TEST_CASE = [\n",
        "      (0, 0),\n",
        "      (1, 1),\n",
        "      (0, 0),\n",
        "      (0, 0),\n",
        "      (1, 1),\n",
        "      (1, 0),\n",
        "      (0, 0),\n",
        "    ]\n",
        "    def process():\n",
        "      for (input, expected) in TEST_CASE:\n",
        "        # Set input\n",
        "        yield self.dut.input.eq(input)\n",
        "        # Allow some time for signals to propagate\n",
        "        yield Delay(0.1)\n",
        "        self.assertEqual(expected, (yield self.dut.detected))\n",
        "        yield\n",
        "    self.run_sim(process)\n",
        "\n",
        "runTests(EdgeDetectorTestCase)\n",
        "print(convert_elaboratable(EdgeDetector()))"
      ],
      "metadata": {
        "id": "jSDe5wQ7QP8W",
        "colab": {
          "base_uri": "https://localhost:8080/"
        },
        "outputId": "e742777d-e9a6-4d0c-9816-9e5c1b37347e"
      },
      "execution_count": null,
      "outputs": [
        {
          "output_type": "stream",
          "name": "stderr",
          "text": [
            ".\n",
            "----------------------------------------------------------------------\n",
            "Ran 1 test in 0.006s\n",
            "\n",
            "OK\n"
          ]
        },
        {
          "output_type": "stream",
          "name": "stdout",
          "text": [
            "/* Generated by Amaranth Yosys 0.10.0 (PyPI ver 0.10.0.dev46, git sha1 dca8fb54a) */\n",
            "\n",
            "\n",
            "\n",
            "\n",
            "module Top(detected, clk, rst, \\input );\n",
            "  reg \\initial  = 0;\n",
            "\n",
            "  wire \\$1 ;\n",
            "\n",
            "  wire \\$3 ;\n",
            "\n",
            "  input clk;\n",
            "\n",
            "  output detected;\n",
            "\n",
            "  input \\input ;\n",
            "\n",
            "  reg last = 1'h0;\n",
            "\n",
            "  reg \\last$next ;\n",
            "\n",
            "  input rst;\n",
            "  assign \\$1  = ~  last;\n",
            "  assign \\$3  = \\input  &  \\$1 ;\n",
            "  always @(posedge clk)\n",
            "    last <= \\last$next ;\n",
            "  always @* begin\n",
            "    if (\\initial ) begin end\n",
            "    \\last$next  = \\input ;\n",
            "\n",
            "    casez (rst)\n",
            "      1'h1:\n",
            "          \\last$next  = 1'h0;\n",
            "    endcase\n",
            "  end\n",
            "  assign detected = \\$3 ;\n",
            "endmodule\n",
            "\n"
          ]
        }
      ]
    }
  ]
}