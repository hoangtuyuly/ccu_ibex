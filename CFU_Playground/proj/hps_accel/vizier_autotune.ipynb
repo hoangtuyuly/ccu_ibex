{
 "cells": [
  {
   "cell_type": "markdown",
   "metadata": {},
   "source": [
    "# Vizier Auto-tuning\n",
    "\n",
    "Use this notebook to find optimal parameters for `nextpnr` using Google Vizier framework."
   ]
  },
  {
   "cell_type": "markdown",
   "metadata": {},
   "source": [
    "###  Install python dependencies"
   ]
  },
  {
   "cell_type": "code",
   "execution_count": null,
   "metadata": {},
   "outputs": [],
   "source": [
    "! pip install -U google-api-python-client\n",
    "! pip install -U google-cloud\n",
    "! pip install -U google-cloud-storage\n",
    "! pip install -U requests\n",
    "! pip install -U matplotlib\n",
    "! pip install -U scipy"
   ]
  },
  {
   "cell_type": "markdown",
   "metadata": {},
   "source": [
    "### Synthesize design\n",
    "\n",
    "Let's synthesize design beforehand. After all we want to test only nextpnr."
   ]
  },
  {
   "cell_type": "code",
   "execution_count": null,
   "metadata": {},
   "outputs": [],
   "source": [
    "import os\n",
    "\n",
    "# Specify a path for your riscv toolchain installation.\n",
    "# Might be unncessary if you are running inside a conda environment\n",
    "riscv_toolchain_path = '../../../riscv64-unknown-elf-gcc-10.1.0-2020.08.2-x86_64-linux-ubuntu14/'\n",
    "riscv_toolchain_path = os.path.realpath(riscv_toolchain_path)\n",
    "\n",
    "rv_bin = os.path.join(riscv_toolchain_path, 'bin')\n",
    "path = f'{rv_bin}:{os.environ[\"PATH\"]}'\n",
    "\n",
    "! source ../../env/conda/bin/activate cfu-common\n",
    "%env PATH $path\n",
    "! make synth"
   ]
  },
  {
   "cell_type": "markdown",
   "metadata": {},
   "source": [
    "### Configure SaaS backend and authorization"
   ]
  },
  {
   "cell_type": "code",
   "execution_count": null,
   "metadata": {},
   "outputs": [],
   "source": [
    "# Google Cloud Vizier config\n",
    "gc_accnt = 'example@email.com'\n",
    "gc_project_id = 'project_id'\n",
    "gc_region= 'region'\n",
    "%env GOOGLE_APPLICATION_CREDENTIALS credentials.json"
   ]
  },
  {
   "cell_type": "markdown",
   "metadata": {},
   "source": [
    "### Create study"
   ]
  },
  {
   "cell_type": "code",
   "execution_count": null,
   "metadata": {},
   "outputs": [],
   "source": [
    "import random\n",
    "import datetime\n",
    "from vizier.vapi import *\n",
    "\n",
    "random.seed()\n",
    "\n",
    "def make_study_name(identity):\n",
    "    random_id = ''.join(str(random.choice([0, 1, 2, 3, 4, 5, 6, 7, 8, 9])) for i in range(0, 8))\n",
    "    return f'hps-study{random_id}_{identity}_{datetime.datetime.now().strftime(\"%Y%m%d_%H%M%S\")}'\n",
    "\n",
    "study_id = make_study_name('hps')\n",
    "\n",
    "print(f'Study will be named \"{study_id}\"')\n",
    "\n",
    "study = Study(\n",
    "    name = study_id,\n",
    "    max_trials = 3,\n",
    "    # Add metrics to optimize here\n",
    "    metrics = {\n",
    "        'fmax': 'MAXIMIZE',\n",
    "        'runtime': 'MINIMIZE'\n",
    "    },\n",
    "    # Add parameters for the blackbox here.\n",
    "    # Use 'UNSPECIFIED'/'LENEAR'/'LOG'/'REVERSE_LOG' to define parameter scaling (Vizier)\n",
    "    parameters = {\n",
    "        'estimate-delay-mult': ParameterInt(min=10, max=50, scale='LINEAR')\n",
    "    },\n",
    "    # Choose algorithm. Vizier accepts the following options:\n",
    "    # 'ALGORITHM_UNSPECIFIED', 'GAUSSIAN_PROCESS_BANDIT', 'GRID_SEARCH' (discrete/categorical params only)\n",
    "    # and 'RANDOM_SEARCH'\n",
    "    algorithm = 'GAUSSIAN_PROCESS_BANDIT'\n",
    ")"
   ]
  },
  {
   "cell_type": "markdown",
   "metadata": {},
   "source": [
    "### Create a Vizier-compatible client\n",
    "\n",
    "This version of script is meant to be used with Vizier backend. Use `VizierClient`."
   ]
  },
  {
   "cell_type": "code",
   "execution_count": null,
   "metadata": {},
   "outputs": [],
   "source": [
    "from vizier.client_vizier import VizierClient\n",
    "\n",
    "! gcloud config set project $gc_project_id\n",
    "# ! gcloud auth application-default login\n",
    "! gcloud auth login $gc_accnt\n",
    "client = VizierClient(gc_accnt, gc_project_id, gc_region)"
   ]
  },
  {
   "cell_type": "markdown",
   "metadata": {},
   "source": [
    "### Set-up an Optimizer for HPS flow\n",
    "\n",
    "This is where we define how to use out \"black-box\", ie. the Oxide flow"
   ]
  },
  {
   "cell_type": "code",
   "execution_count": null,
   "metadata": {},
   "outputs": [],
   "source": [
    "from vizier import Optimizer\n",
    "import subprocess\n",
    "import os\n",
    "import shutil\n",
    "import json\n",
    "import time\n",
    "\n",
    "# Path to nextpnr-nexus\n",
    "nextpnr = '/mnt/more/Documents/symbiflow-enhancements-fpga-tool-perf/env/conda'\\\n",
    "          '/envs/nextpnr-env/bin/nextpnr-nexus'\n",
    "\n",
    "def get_metrics_from_report(json_dict):\n",
    "    return {\n",
    "        'fmax': json_dict['fmax']['clkout$glb_clk']['achieved']\n",
    "    }\n",
    "\n",
    "def params_to_npr_args(params):\n",
    "    args = []\n",
    "    for name, value in params.items():\n",
    "        args += [f'--{name}', str(value)]\n",
    "    return args\n",
    "\n",
    "def standard_npr_args(json, pdc, result_fasm, device):\n",
    "    return [\n",
    "        '--json', json,\n",
    "        '--pdc', pdc,\n",
    "        '--fasm', result_fasm,\n",
    "        '--device', device,\n",
    "        '--detailed-timing-report'\n",
    "    ]\n",
    "\n",
    "next_dir = 'next'\n",
    "os.makedirs(next_dir, exist_ok=True)\n",
    "\n",
    "gateware_dir = os.path.realpath('../../soc/build/hps.hps_accel/gateware')\n",
    "\n",
    "class HpsFlowOptimizer(Optimizer):\n",
    "\n",
    "    # Run the blackbox inside the `run_blackbox` method. The `instance` parameter is an instance\n",
    "    # number of the blackbox if multiple blackboxes are being run in parallel. This can be used\n",
    "    # avoid problems if the blackbox generates some artifacts in the filesystem.\n",
    "    def run_blackbox(self, instance, **params) -> 'list[Measurement]':\n",
    "        dir_path = os.path.join(next_dir, f'run_{instance}')\n",
    "\n",
    "        if os.path.exists(dir_path):\n",
    "            shutil.rmtree(dir_path)\n",
    "        os.makedirs(dir_path)\n",
    "\n",
    "        report_path = os.path.join(dir_path, f'next_report.json')\n",
    "\n",
    "        args = standard_npr_args(\n",
    "            json = os.path.join(gateware_dir, 'hps_proto2_platform.json'),\n",
    "            pdc = os.path.join(gateware_dir, 'hps_proto2_platform.pdc'),\n",
    "            result_fasm = os.path.join(dir_path, 'hps_proto2_platform.fasm'),\n",
    "            device = 'LIFCL-17-8UWG72C'\n",
    "        ) + ['--report', report_path] + params_to_npr_args(params)\n",
    "\n",
    "        now = time.time()\n",
    "        subprocess.run([nextpnr] + args)\n",
    "        duration = time.time() - now\n",
    "\n",
    "        metrics: dict\n",
    "        with open(report_path, 'r') as report:\n",
    "            metrics = get_metrics_from_report(json.loads(report.read()))\n",
    "        metrics['runtime'] = duration\n",
    "        \n",
    "        return [Measurement(metrics = metrics)]"
   ]
  },
  {
   "cell_type": "markdown",
   "metadata": {},
   "source": [
    "### Auto-tune"
   ]
  },
  {
   "cell_type": "code",
   "execution_count": null,
   "metadata": {},
   "outputs": [],
   "source": [
    "from vizier import Optimizer\n",
    "\n",
    "concurrency = 1\n",
    "\n",
    "client.create_study(study, concurrency)\n",
    "\n",
    "# Best trial is currently being calculated by finding the longest vector.\n",
    "# In case of values that are expected to be minimized, they get substracted from maximum during\n",
    "# computations. See `get_best_trial` in cielnt_vizier.py.\n",
    "best_trial = HpsFlowOptimizer(study, concurrency).optimize(client)\n",
    "\n",
    "print(f'Parameters: {\", \".join([\"{}: {}\".format(p.name, p.value) for p in best_trial.parameters])}')\n",
    "\n",
    "i = 0\n",
    "for measurement in best_trial.measurements:\n",
    "    print(f'Measurements[{i}]: {\",\".join([\"{}: {}\".format(name, value) for name, value in measurement.metrics.items()])}')\n",
    "    i += 0"
   ]
  }
 ],
 "metadata": {
  "interpreter": {
   "hash": "b4b51eb36172fd8699849e82c9b2a9926c1fd27781b3e4794bcc81e1be220048"
  },
  "kernelspec": {
   "display_name": "Python 3.9.5 ('base')",
   "language": "python",
   "name": "python3"
  },
  "language_info": {
   "codemirror_mode": {
    "name": "ipython",
    "version": 3
   },
   "file_extension": ".py",
   "mimetype": "text/x-python",
   "name": "python",
   "nbconvert_exporter": "python",
   "pygments_lexer": "ipython3",
   "version": "3.7.11"
  },
  "orig_nbformat": 4
 },
 "nbformat": 4,
 "nbformat_minor": 2
}
