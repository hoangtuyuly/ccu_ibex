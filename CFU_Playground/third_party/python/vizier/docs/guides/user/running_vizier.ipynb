{
  "cells": [
    {
      "cell_type": "markdown",
      "metadata": {
        "id": "Xgqk7eHswDpB"
      },
      "source": [
        "# Vizier Basics\n",
        "Below, we provide examples of how to:\n",
        "\n",
        "*   Define a problem statement and study configuration.\n",
        "*   Setup a local server.\n",
        "*   Setup a client to connect to the server.\n",
        "*   Perform a typical tuning loop.\n",
        "*   Use other client APIs."
      ]
    },
    {
      "cell_type": "markdown",
      "metadata": {
        "id": "O5RnMytPR8Aw"
      },
      "source": [
        "## Reference imports"
      ]
    },
    {
      "cell_type": "code",
      "execution_count": null,
      "metadata": {
        "id": "fzYr0bPYSHfQ"
      },
      "outputs": [],
      "source": [
        "from concurrent import futures\n",
        "import grpc\n",
        "import portpicker\n",
        "\n",
        "from vizier.service import clients\n",
        "from vizier.service import pyvizier as vz\n",
        "from vizier.service import vizier_server\n",
        "from vizier.service import vizier_service_pb2_grpc"
      ]
    },
    {
      "cell_type": "markdown",
      "metadata": {
        "id": "qJ1kRiHaKOVt"
      },
      "source": [
        "## Setting up the problem statement\n",
        "\n",
        "Here we setup the problem statement, which contains information about the search space and the metrics to optimize."
      ]
    },
    {
      "cell_type": "code",
      "execution_count": null,
      "metadata": {
        "id": "zX2G3_pcKYdG"
      },
      "outputs": [],
      "source": [
        "problem = vz.ProblemStatement()\n",
        "problem.search_space.root.add_float_param('x', 0.0, 1.0)\n",
        "problem.search_space.root.add_float_param('y', 0.0, 1.0)\n",
        "problem.metric_information.append(\n",
        "    vz.MetricInformation(\n",
        "        name='maximize_metric', goal=vz.ObjectiveMetricGoal.MAXIMIZE))\n",
        "\n",
        "\n",
        "def evaluate(x: float, y: float) -\u003e float:\n",
        "  return x**2 - y**2"
      ]
    },
    {
      "cell_type": "markdown",
      "metadata": {
        "id": "GjDXKSIPKoex"
      },
      "source": [
        "## Setting up the study configuration\n",
        "\n",
        "The study configuration contains additional information, such as the algorithm to use and level of noise that we think the objective will have."
      ]
    },
    {
      "cell_type": "code",
      "execution_count": null,
      "metadata": {
        "id": "NlSWnX1wKrjZ"
      },
      "outputs": [],
      "source": [
        "study_config = vz.StudyConfig.from_problem(problem)\n",
        "study_config.algorithm = vz.Algorithm.RANDOM_SEARCH"
      ]
    },
    {
      "cell_type": "markdown",
      "metadata": {
        "id": "SwaqnJECLtwa"
      },
      "source": [
        "## Setting up the server\n",
        "As an local example, the server will be run locally here, and will process all client requests. However, it can also be run remotely, to service multiple clients in a distributed manner.\n"
      ]
    },
    {
      "cell_type": "code",
      "execution_count": null,
      "metadata": {
        "id": "1IEUw_UfLvtx"
      },
      "outputs": [],
      "source": [
        "port = portpicker.pick_unused_port()\n",
        "address = f'localhost:{port}'\n",
        "\n",
        "# Setup server.\n",
        "server = grpc.server(futures.ThreadPoolExecutor(max_workers=100))\n",
        "\n",
        "# Setup Vizier Service.\n",
        "servicer = vizier_server.VizierService()\n",
        "vizier_service_pb2_grpc.add_VizierServiceServicer_to_server(servicer, server)\n",
        "server.add_secure_port(address, grpc.local_server_credentials())\n",
        "\n",
        "# Start the server.\n",
        "server.start()"
      ]
    },
    {
      "cell_type": "markdown",
      "metadata": {
        "id": "5e2B91UvZYIM"
      },
      "source": [
        "## Setting up the client\n",
        "Starts a client, which will connect to the server. Note that the below can be called multiple times, one on each machine, to obtain multiple clients, all working on the same study, especially for tuning jobs which require multiple machines to parallelize the workload."
      ]
    },
    {
      "cell_type": "code",
      "execution_count": null,
      "metadata": {
        "id": "X2AR4OmXX3in"
      },
      "outputs": [],
      "source": [
        "clients.environment_variables.service_endpoint = address  # Server address.\n",
        "study = clients.Study.from_study_config(\n",
        "    study_config, owner='owner', study_id='example_study_id')"
      ]
    },
    {
      "cell_type": "markdown",
      "metadata": {
        "id": "Vh3eNsrAdaMJ"
      },
      "source": [
        "## Obtaining suggestions\n",
        "Start requesting suggestions from the server, for evaluating objectives."
      ]
    },
    {
      "cell_type": "code",
      "execution_count": null,
      "metadata": {
        "id": "BnFKc7FadkJV"
      },
      "outputs": [],
      "source": [
        "suggestions = study.suggest(count=5)\n",
        "for suggestion in suggestions:\n",
        "  x = suggestion.parameters['x']\n",
        "  y = suggestion.parameters['y']\n",
        "  print('Suggested Parameters (x,y):', x, y)\n",
        "  final_measurement = vz.Measurement({'maximize_metric': evaluate(x, y)})\n",
        "  suggestion.complete(final_measurement)"
      ]
    },
    {
      "cell_type": "markdown",
      "metadata": {
        "id": "V_pbH38ZfMVo"
      },
      "source": [
        "## Find optimal trial\n",
        "Find the best objective so far, with corresponding suggestion value. For multiobjective cases, there may be multiple outputs of `optimal_trials()`, all corresponding to a Pareto-optimal curve."
      ]
    },
    {
      "cell_type": "code",
      "execution_count": null,
      "metadata": {
        "id": "vTKVZHVtfXJc"
      },
      "outputs": [],
      "source": [
        "for optimal_trial in study.optimal_trials():\n",
        "  optimal_trial = optimal_trial.materialize()\n",
        "  print(\"Optimal Trial Suggestion and Objective:\", optimal_trial.parameters,\n",
        "        optimal_trial.final_measurement)"
      ]
    },
    {
      "cell_type": "markdown",
      "metadata": {
        "id": "TPJD47ipbsQi"
      },
      "source": [
        "## Other client commands\n",
        "The `study` client can also send other requests, such as the following:"
      ]
    },
    {
      "cell_type": "code",
      "execution_count": null,
      "metadata": {
        "id": "vcXrVLuMb201"
      },
      "outputs": [],
      "source": [
        "study.get_trial(1)  # Get the first trial.\n",
        "study.trials()  # Get all trials so far.\n",
        "\n",
        "# Obtain only the completed trials.\n",
        "trial_filter = vz.TrialFilter(status=[vz.TrialStatus.COMPLETED])\n",
        "study.trials(trial_filter=trial_filter)"
      ]
    }
  ],
  "metadata": {
    "colab": {
      "collapsed_sections": [],
      "last_runtime": {
        "build_target": "",
        "kind": "local"
      },
      "name": "Running Vizier.ipynb",
      "private_outputs": true,
      "provenance": [
        {
          "file_id": "1q87rsDDUJLHci3o9Gv-sU0g7H3O3lAbU",
          "timestamp": 1659555396142
        }
      ]
    },
    "kernelspec": {
      "display_name": "Python 3",
      "name": "python3"
    },
    "language_info": {
      "name": "python"
    }
  },
  "nbformat": 4,
  "nbformat_minor": 0
}
